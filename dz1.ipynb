{
 "cells": [
  {
   "cell_type": "markdown",
   "metadata": {
    "tags": []
   },
   "source": [
    "# ДЗ #1   \n",
    "\n",
    "**Что сделать?**  \n",
    "Решить все задания и заполнить соответствующий гугл-опрос.  \n",
    "Ссылка на гугл-опрос --> [тут](https://docs.google.com/forms/d/e/1FAIpQLSefdNkCvrhOQUFgrWfRZm4etiQYR5Ee9boieC4JlpZem9lu0w/viewform?usp=sf_link).  \n",
    "\n",
    "##  Задача\n",
    "Знакомство с библиотеками pandas, numpy.  \n",
    "Для примера будем обрабатывать датасет твитов Д. Трампа.  \n",
    "Названия полей в принципе интуитивно понятные, но на всякий случай вот описание:  \n",
    "\n",
    "| Column        | Description   |\n",
    "| :------------- |:-------------| \n",
    "| Date      | Дата твита | \n",
    "| Time      | Время твита      |\n",
    "| Tweet_Text      | Текст твита | \n",
    "| Type      | Тип твита      |\n",
    "| Hashtags      | Хештеги твита      |\n",
    "| Tweet_Id      | Уникальный идентификатор твита | \n",
    "| Tweet_Url      | http-ссылка на твит      |\n",
    "| Likes      | Количество лайков твита      |\n",
    "| Retweets      | Количество ретвитов твита | \n",
    "\n",
    "\n",
    "Выполняйте задачи последовательно. Предыдущие этапы могут влиять на ответы для будущих задач.  \n",
    "**подсказка:** *все основные примеры работы функций описаны в тренировочном файле к уроку.*"
   ]
  },
  {
   "cell_type": "code",
   "execution_count": 18,
   "metadata": {},
   "outputs": [
    {
     "data": {
      "text/plain": "          Date      Time                                         Tweet_Text  \\\n0     16-11-11  15:26:37  Today we express our deepest gratitude to all ...   \n1     16-11-11  13:33:35  Busy day planned in New York. Will soon be mak...   \n2     16-11-11  11:14:20  Love the fact that the small groups of protest...   \n3     16-11-11   2:19:44  Just had a very open and successful presidenti...   \n4     16-11-11   2:10:46  A fantastic day in D.C. Met with President Oba...   \n...        ...       ...                                                ...   \n7417  15-07-16  13:10:00  I loved firing goofball atheist Penn @pennjill...   \n7418  15-07-16  10:18:31  I hear @pennjillette show on Broadway is terri...   \n7419  15-07-16  10:10:17  Irrelevant clown @KarlRove sweats and shakes n...   \n7420  15-07-16   9:44:07  \"@HoustonWelder: Donald Trump is one of the se...   \n7421  15-07-16   0:21:25  RT @marklevinshow: Trump: Rove is a clown and ...   \n\n      Type   Hashtags      Tweet_Id  \\\n0     text  ThankAVet  7.970000e+17   \n1     text        NaN  7.970000e+17   \n2     text        NaN  7.970000e+17   \n3     text        NaN  7.970000e+17   \n4     text        NaN  7.970000e+17   \n...    ...        ...           ...   \n7417  text        NaN  6.220000e+17   \n7418  text        NaN  6.220000e+17   \n7419  text        NaN  6.220000e+17   \n7420  text        NaN  6.220000e+17   \n7421  link        NaN  6.210000e+17   \n\n                                              Tweet_Url   Likes  Retweets  \n0     https://twitter.com/realDonaldTrump/status/797...  127213     41112  \n1     https://twitter.com/realDonaldTrump/status/797...  141527     28654  \n2     https://twitter.com/realDonaldTrump/status/797...  183729     50039  \n3     https://twitter.com/realDonaldTrump/status/796...  214001     67010  \n4     https://twitter.com/realDonaldTrump/status/796...  178499     36688  \n...                                                 ...     ...       ...  \n7417  https://twitter.com/realDonaldTrump/status/621...     953       431  \n7418  https://twitter.com/realDonaldTrump/status/621...    1175      1086  \n7419  https://twitter.com/realDonaldTrump/status/621...    1494       930  \n7420  https://twitter.com/realDonaldTrump/status/621...    1800      1738  \n7421  https://twitter.com/realDonaldTrump/status/621...     962       689  \n\n[7422 rows x 9 columns]",
      "text/html": "<div>\n<style scoped>\n    .dataframe tbody tr th:only-of-type {\n        vertical-align: middle;\n    }\n\n    .dataframe tbody tr th {\n        vertical-align: top;\n    }\n\n    .dataframe thead th {\n        text-align: right;\n    }\n</style>\n<table border=\"1\" class=\"dataframe\">\n  <thead>\n    <tr style=\"text-align: right;\">\n      <th></th>\n      <th>Date</th>\n      <th>Time</th>\n      <th>Tweet_Text</th>\n      <th>Type</th>\n      <th>Hashtags</th>\n      <th>Tweet_Id</th>\n      <th>Tweet_Url</th>\n      <th>Likes</th>\n      <th>Retweets</th>\n    </tr>\n  </thead>\n  <tbody>\n    <tr>\n      <th>0</th>\n      <td>16-11-11</td>\n      <td>15:26:37</td>\n      <td>Today we express our deepest gratitude to all ...</td>\n      <td>text</td>\n      <td>ThankAVet</td>\n      <td>7.970000e+17</td>\n      <td>https://twitter.com/realDonaldTrump/status/797...</td>\n      <td>127213</td>\n      <td>41112</td>\n    </tr>\n    <tr>\n      <th>1</th>\n      <td>16-11-11</td>\n      <td>13:33:35</td>\n      <td>Busy day planned in New York. Will soon be mak...</td>\n      <td>text</td>\n      <td>NaN</td>\n      <td>7.970000e+17</td>\n      <td>https://twitter.com/realDonaldTrump/status/797...</td>\n      <td>141527</td>\n      <td>28654</td>\n    </tr>\n    <tr>\n      <th>2</th>\n      <td>16-11-11</td>\n      <td>11:14:20</td>\n      <td>Love the fact that the small groups of protest...</td>\n      <td>text</td>\n      <td>NaN</td>\n      <td>7.970000e+17</td>\n      <td>https://twitter.com/realDonaldTrump/status/797...</td>\n      <td>183729</td>\n      <td>50039</td>\n    </tr>\n    <tr>\n      <th>3</th>\n      <td>16-11-11</td>\n      <td>2:19:44</td>\n      <td>Just had a very open and successful presidenti...</td>\n      <td>text</td>\n      <td>NaN</td>\n      <td>7.970000e+17</td>\n      <td>https://twitter.com/realDonaldTrump/status/796...</td>\n      <td>214001</td>\n      <td>67010</td>\n    </tr>\n    <tr>\n      <th>4</th>\n      <td>16-11-11</td>\n      <td>2:10:46</td>\n      <td>A fantastic day in D.C. Met with President Oba...</td>\n      <td>text</td>\n      <td>NaN</td>\n      <td>7.970000e+17</td>\n      <td>https://twitter.com/realDonaldTrump/status/796...</td>\n      <td>178499</td>\n      <td>36688</td>\n    </tr>\n    <tr>\n      <th>...</th>\n      <td>...</td>\n      <td>...</td>\n      <td>...</td>\n      <td>...</td>\n      <td>...</td>\n      <td>...</td>\n      <td>...</td>\n      <td>...</td>\n      <td>...</td>\n    </tr>\n    <tr>\n      <th>7417</th>\n      <td>15-07-16</td>\n      <td>13:10:00</td>\n      <td>I loved firing goofball atheist Penn @pennjill...</td>\n      <td>text</td>\n      <td>NaN</td>\n      <td>6.220000e+17</td>\n      <td>https://twitter.com/realDonaldTrump/status/621...</td>\n      <td>953</td>\n      <td>431</td>\n    </tr>\n    <tr>\n      <th>7418</th>\n      <td>15-07-16</td>\n      <td>10:18:31</td>\n      <td>I hear @pennjillette show on Broadway is terri...</td>\n      <td>text</td>\n      <td>NaN</td>\n      <td>6.220000e+17</td>\n      <td>https://twitter.com/realDonaldTrump/status/621...</td>\n      <td>1175</td>\n      <td>1086</td>\n    </tr>\n    <tr>\n      <th>7419</th>\n      <td>15-07-16</td>\n      <td>10:10:17</td>\n      <td>Irrelevant clown @KarlRove sweats and shakes n...</td>\n      <td>text</td>\n      <td>NaN</td>\n      <td>6.220000e+17</td>\n      <td>https://twitter.com/realDonaldTrump/status/621...</td>\n      <td>1494</td>\n      <td>930</td>\n    </tr>\n    <tr>\n      <th>7420</th>\n      <td>15-07-16</td>\n      <td>9:44:07</td>\n      <td>\"@HoustonWelder: Donald Trump is one of the se...</td>\n      <td>text</td>\n      <td>NaN</td>\n      <td>6.220000e+17</td>\n      <td>https://twitter.com/realDonaldTrump/status/621...</td>\n      <td>1800</td>\n      <td>1738</td>\n    </tr>\n    <tr>\n      <th>7421</th>\n      <td>15-07-16</td>\n      <td>0:21:25</td>\n      <td>RT @marklevinshow: Trump: Rove is a clown and ...</td>\n      <td>link</td>\n      <td>NaN</td>\n      <td>6.210000e+17</td>\n      <td>https://twitter.com/realDonaldTrump/status/621...</td>\n      <td>962</td>\n      <td>689</td>\n    </tr>\n  </tbody>\n</table>\n<p>7422 rows × 9 columns</p>\n</div>"
     },
     "execution_count": 18,
     "metadata": {},
     "output_type": "execute_result"
    }
   ],
   "source": [
    "import pandas as pd\n",
    "import numpy as np\n",
    "\n",
    "df = pd.read_csv('datasets/DonaldTrumpTweets.csv')\n",
    "df\n"
   ]
  },
  {
   "cell_type": "markdown",
   "metadata": {},
   "source": [
    "### Задание 1\n",
    "\n",
    "Сделайте чистку данных и удалите все дубликаты.  \n",
    "Сколько всего уникальных записей в датасете?"
   ]
  },
  {
   "cell_type": "code",
   "execution_count": 19,
   "metadata": {},
   "outputs": [
    {
     "data": {
      "text/plain": "(7375, 9)"
     },
     "execution_count": 19,
     "metadata": {},
     "output_type": "execute_result"
    }
   ],
   "source": [
    "df_new = df.drop_duplicates()\n",
    "df_new.shape\n"
   ]
  },
  {
   "cell_type": "markdown",
   "source": [
    "7375 уникальных записей"
   ],
   "metadata": {
    "collapsed": false
   }
  },
  {
   "cell_type": "markdown",
   "metadata": {},
   "source": [
    "### Задание 2\n",
    "\n",
    "В датафрейме есть NaN значения.  \n",
    "Сколько их в столбце хэштегов?"
   ]
  },
  {
   "cell_type": "code",
   "execution_count": 20,
   "outputs": [
    {
     "data": {
      "text/plain": "(2031, 9)"
     },
     "execution_count": 20,
     "metadata": {},
     "output_type": "execute_result"
    }
   ],
   "source": [
    "df_drop = df_new.dropna (subset=['Hashtags'])\n",
    "df_drop.shape\n",
    "\n",
    "\n"
   ],
   "metadata": {
    "collapsed": false
   }
  },
  {
   "cell_type": "markdown",
   "source": [
    "5344 или 5391"
   ],
   "metadata": {
    "collapsed": false
   }
  },
  {
   "cell_type": "markdown",
   "metadata": {},
   "source": [
    "### Задание 3\n",
    "\n",
    "Замените **все** значения NaN на ноль.  \n",
    "Какой наименее популярный тип твита (по количеству записей)?"
   ]
  },
  {
   "cell_type": "code",
   "execution_count": 21,
   "metadata": {},
   "outputs": [
    {
     "data": {
      "text/plain": "          Date      Time                                         Tweet_Text  \\\n15    16-11-08  18:23:39  #ElectionDay https://t.co/MXrAxYnTjY https://t...   \n17    16-11-08  16:39:36  VOTE TODAY! Go to https://t.co/MXrAxYnTjY to f...   \n20    16-11-08   4:32:51  RT @EricTrump: Sean Hannity: If Hillary wins, ...   \n22    16-11-08   4:27:18  RT @detroitnews: .@IvankaTrump in Michigan: Th...   \n29    16-11-07  21:37:25  America must decide between failed policies or...   \n...        ...       ...                                                ...   \n7352  15-07-16  18:51:22  Via @FSMtweet: Trump is Right: Illegal Alien C...   \n7353  15-07-16  18:45:41  30,000 MACY۪S CUSTOMERS RETALIATE IN SUPPORT O...   \n7354  15-07-16  18:37:18  Is this true about Univision and Fusion? Wow!?...   \n7355  15-07-16  18:35:32  Via @BreitbartNews by Steve Bannon: ωTIME TO G...   \n7374  15-07-16   0:21:25  RT @marklevinshow: Trump: Rove is a clown and ...   \n\n      Type     Hashtags      Tweet_Id  \\\n15    link  ElectionDay  7.960000e+17   \n17    link            0  7.960000e+17   \n20    link            0  7.960000e+17   \n22    link            0  7.960000e+17   \n29    link            0  7.960000e+17   \n...    ...          ...           ...   \n7352  link            0  6.220000e+17   \n7353  link            0  6.220000e+17   \n7354  link            0  6.220000e+17   \n7355  link            0  6.220000e+17   \n7374  link            0  6.210000e+17   \n\n                                              Tweet_Url  Likes  Retweets  \n15    https://twitter.com/realDonaldTrump/status/796...  59198     25424  \n17    https://twitter.com/realDonaldTrump/status/796...  67787     29756  \n20    https://twitter.com/realDonaldTrump/status/795...  20150      9176  \n22    https://twitter.com/realDonaldTrump/status/795...  20591      6917  \n29    https://twitter.com/realDonaldTrump/status/795...  36663     16108  \n...                                                 ...    ...       ...  \n7352  https://twitter.com/realDonaldTrump/status/621...    575       356  \n7353  https://twitter.com/realDonaldTrump/status/621...    918       425  \n7354  https://twitter.com/realDonaldTrump/status/621...    334       176  \n7355  https://twitter.com/realDonaldTrump/status/621...    352       201  \n7374  https://twitter.com/realDonaldTrump/status/621...    962       689  \n\n[925 rows x 9 columns]",
      "text/html": "<div>\n<style scoped>\n    .dataframe tbody tr th:only-of-type {\n        vertical-align: middle;\n    }\n\n    .dataframe tbody tr th {\n        vertical-align: top;\n    }\n\n    .dataframe thead th {\n        text-align: right;\n    }\n</style>\n<table border=\"1\" class=\"dataframe\">\n  <thead>\n    <tr style=\"text-align: right;\">\n      <th></th>\n      <th>Date</th>\n      <th>Time</th>\n      <th>Tweet_Text</th>\n      <th>Type</th>\n      <th>Hashtags</th>\n      <th>Tweet_Id</th>\n      <th>Tweet_Url</th>\n      <th>Likes</th>\n      <th>Retweets</th>\n    </tr>\n  </thead>\n  <tbody>\n    <tr>\n      <th>15</th>\n      <td>16-11-08</td>\n      <td>18:23:39</td>\n      <td>#ElectionDay https://t.co/MXrAxYnTjY https://t...</td>\n      <td>link</td>\n      <td>ElectionDay</td>\n      <td>7.960000e+17</td>\n      <td>https://twitter.com/realDonaldTrump/status/796...</td>\n      <td>59198</td>\n      <td>25424</td>\n    </tr>\n    <tr>\n      <th>17</th>\n      <td>16-11-08</td>\n      <td>16:39:36</td>\n      <td>VOTE TODAY! Go to https://t.co/MXrAxYnTjY to f...</td>\n      <td>link</td>\n      <td>0</td>\n      <td>7.960000e+17</td>\n      <td>https://twitter.com/realDonaldTrump/status/796...</td>\n      <td>67787</td>\n      <td>29756</td>\n    </tr>\n    <tr>\n      <th>20</th>\n      <td>16-11-08</td>\n      <td>4:32:51</td>\n      <td>RT @EricTrump: Sean Hannity: If Hillary wins, ...</td>\n      <td>link</td>\n      <td>0</td>\n      <td>7.960000e+17</td>\n      <td>https://twitter.com/realDonaldTrump/status/795...</td>\n      <td>20150</td>\n      <td>9176</td>\n    </tr>\n    <tr>\n      <th>22</th>\n      <td>16-11-08</td>\n      <td>4:27:18</td>\n      <td>RT @detroitnews: .@IvankaTrump in Michigan: Th...</td>\n      <td>link</td>\n      <td>0</td>\n      <td>7.960000e+17</td>\n      <td>https://twitter.com/realDonaldTrump/status/795...</td>\n      <td>20591</td>\n      <td>6917</td>\n    </tr>\n    <tr>\n      <th>29</th>\n      <td>16-11-07</td>\n      <td>21:37:25</td>\n      <td>America must decide between failed policies or...</td>\n      <td>link</td>\n      <td>0</td>\n      <td>7.960000e+17</td>\n      <td>https://twitter.com/realDonaldTrump/status/795...</td>\n      <td>36663</td>\n      <td>16108</td>\n    </tr>\n    <tr>\n      <th>...</th>\n      <td>...</td>\n      <td>...</td>\n      <td>...</td>\n      <td>...</td>\n      <td>...</td>\n      <td>...</td>\n      <td>...</td>\n      <td>...</td>\n      <td>...</td>\n    </tr>\n    <tr>\n      <th>7352</th>\n      <td>15-07-16</td>\n      <td>18:51:22</td>\n      <td>Via @FSMtweet: Trump is Right: Illegal Alien C...</td>\n      <td>link</td>\n      <td>0</td>\n      <td>6.220000e+17</td>\n      <td>https://twitter.com/realDonaldTrump/status/621...</td>\n      <td>575</td>\n      <td>356</td>\n    </tr>\n    <tr>\n      <th>7353</th>\n      <td>15-07-16</td>\n      <td>18:45:41</td>\n      <td>30,000 MACY۪S CUSTOMERS RETALIATE IN SUPPORT O...</td>\n      <td>link</td>\n      <td>0</td>\n      <td>6.220000e+17</td>\n      <td>https://twitter.com/realDonaldTrump/status/621...</td>\n      <td>918</td>\n      <td>425</td>\n    </tr>\n    <tr>\n      <th>7354</th>\n      <td>15-07-16</td>\n      <td>18:37:18</td>\n      <td>Is this true about Univision and Fusion? Wow!?...</td>\n      <td>link</td>\n      <td>0</td>\n      <td>6.220000e+17</td>\n      <td>https://twitter.com/realDonaldTrump/status/621...</td>\n      <td>334</td>\n      <td>176</td>\n    </tr>\n    <tr>\n      <th>7355</th>\n      <td>15-07-16</td>\n      <td>18:35:32</td>\n      <td>Via @BreitbartNews by Steve Bannon: ωTIME TO G...</td>\n      <td>link</td>\n      <td>0</td>\n      <td>6.220000e+17</td>\n      <td>https://twitter.com/realDonaldTrump/status/621...</td>\n      <td>352</td>\n      <td>201</td>\n    </tr>\n    <tr>\n      <th>7374</th>\n      <td>15-07-16</td>\n      <td>0:21:25</td>\n      <td>RT @marklevinshow: Trump: Rove is a clown and ...</td>\n      <td>link</td>\n      <td>0</td>\n      <td>6.210000e+17</td>\n      <td>https://twitter.com/realDonaldTrump/status/621...</td>\n      <td>962</td>\n      <td>689</td>\n    </tr>\n  </tbody>\n</table>\n<p>925 rows × 9 columns</p>\n</div>"
     },
     "execution_count": 21,
     "metadata": {},
     "output_type": "execute_result"
    }
   ],
   "source": [
    "df_new = df_new.fillna('0')\n",
    "df_3 = df_new[df_new['Type'] == 'link']\n",
    "df_3"
   ]
  },
  {
   "cell_type": "markdown",
   "source": [
    "video"
   ],
   "metadata": {
    "collapsed": false
   }
  },
  {
   "cell_type": "markdown",
   "metadata": {},
   "source": [
    "### Задание 4\n",
    "\n",
    "Какой самый популярный хэштег в твитах?"
   ]
  },
  {
   "cell_type": "code",
   "execution_count": 30,
   "metadata": {},
   "outputs": [
    {
     "name": "stdout",
     "output_type": "stream",
     "text": [
      "Trump2016\n"
     ]
    }
   ],
   "source": [
    "from collections import Counter\n",
    "hash_ = df_drop['Hashtags'].tolist()\n",
    "itog = []\n",
    "for i in hash_:\n",
    "    i = i.split(';')\n",
    "    for j in i:\n",
    "        itog.append(j)\n",
    "dict = Counter (itog)\n",
    "res = max (dict, key = dict.get)\n",
    "print (res)"
   ]
  },
  {
   "cell_type": "markdown",
   "source": [
    "Trump2016"
   ],
   "metadata": {
    "collapsed": false
   }
  },
  {
   "cell_type": "markdown",
   "metadata": {},
   "source": [
    "### Задание 5\n",
    "\n",
    "Какая медиана количества ретвитов?"
   ]
  },
  {
   "cell_type": "code",
   "execution_count": 23,
   "metadata": {},
   "outputs": [
    {
     "data": {
      "text/plain": "2173.0"
     },
     "execution_count": 23,
     "metadata": {},
     "output_type": "execute_result"
    }
   ],
   "source": [
    "df_new[\"Retweets\"].median()\n"
   ]
  },
  {
   "cell_type": "markdown",
   "source": [
    "2173"
   ],
   "metadata": {
    "collapsed": false
   }
  },
  {
   "cell_type": "markdown",
   "metadata": {},
   "source": [
    "### Задание 6\n",
    "\n",
    "У скольки твитов строго больше 10 000 ретвитов?"
   ]
  },
  {
   "cell_type": "code",
   "execution_count": 24,
   "metadata": {},
   "outputs": [
    {
     "data": {
      "text/plain": "          Date      Time                                         Tweet_Text  \\\n0     16-11-11  15:26:37  Today we express our deepest gratitude to all ...   \n1     16-11-11  13:33:35  Busy day planned in New York. Will soon be mak...   \n2     16-11-11  11:14:20  Love the fact that the small groups of protest...   \n3     16-11-11   2:19:44  Just had a very open and successful presidenti...   \n4     16-11-11   2:10:46  A fantastic day in D.C. Met with President Oba...   \n...        ...       ...                                                ...   \n4868  15-11-13  21:36:29  They laughed at me when I said to bomb the ISI...   \n5623  15-10-14   2:33:13  Notice that illegal immigrants will be given O...   \n6249  15-09-12  11:07:38  \"@HamishP95: @realDonaldTrump My Dad is thinki...   \n6365  15-09-03  16:49:11  Congratulations to Tom Brady on yet another gr...   \n6651  15-08-08  12:29:09  So many \"politically correct\" fools in our cou...   \n\n      Type   Hashtags      Tweet_Id  \\\n0     text  ThankAVet  7.970000e+17   \n1     text          0  7.970000e+17   \n2     text          0  7.970000e+17   \n3     text          0  7.970000e+17   \n4     text          0  7.970000e+17   \n...    ...        ...           ...   \n4868  text  Trump2016  6.650000e+17   \n5623  text  DemDebate  6.540000e+17   \n6249  text          0  6.430000e+17   \n6365  text          0  6.390000e+17   \n6651  text          0  6.300000e+17   \n\n                                              Tweet_Url   Likes  Retweets  \n0     https://twitter.com/realDonaldTrump/status/797...  127213     41112  \n1     https://twitter.com/realDonaldTrump/status/797...  141527     28654  \n2     https://twitter.com/realDonaldTrump/status/797...  183729     50039  \n3     https://twitter.com/realDonaldTrump/status/796...  214001     67010  \n4     https://twitter.com/realDonaldTrump/status/796...  178499     36688  \n...                                                 ...     ...       ...  \n4868  https://twitter.com/realDonaldTrump/status/665...   27527     16022  \n5623  https://twitter.com/realDonaldTrump/status/654...   26438     17382  \n6249  https://twitter.com/realDonaldTrump/status/642...    9077     12681  \n6365  https://twitter.com/realDonaldTrump/status/639...   16554     12665  \n6651  https://twitter.com/realDonaldTrump/status/629...   21554     12812  \n\n[778 rows x 9 columns]",
      "text/html": "<div>\n<style scoped>\n    .dataframe tbody tr th:only-of-type {\n        vertical-align: middle;\n    }\n\n    .dataframe tbody tr th {\n        vertical-align: top;\n    }\n\n    .dataframe thead th {\n        text-align: right;\n    }\n</style>\n<table border=\"1\" class=\"dataframe\">\n  <thead>\n    <tr style=\"text-align: right;\">\n      <th></th>\n      <th>Date</th>\n      <th>Time</th>\n      <th>Tweet_Text</th>\n      <th>Type</th>\n      <th>Hashtags</th>\n      <th>Tweet_Id</th>\n      <th>Tweet_Url</th>\n      <th>Likes</th>\n      <th>Retweets</th>\n    </tr>\n  </thead>\n  <tbody>\n    <tr>\n      <th>0</th>\n      <td>16-11-11</td>\n      <td>15:26:37</td>\n      <td>Today we express our deepest gratitude to all ...</td>\n      <td>text</td>\n      <td>ThankAVet</td>\n      <td>7.970000e+17</td>\n      <td>https://twitter.com/realDonaldTrump/status/797...</td>\n      <td>127213</td>\n      <td>41112</td>\n    </tr>\n    <tr>\n      <th>1</th>\n      <td>16-11-11</td>\n      <td>13:33:35</td>\n      <td>Busy day planned in New York. Will soon be mak...</td>\n      <td>text</td>\n      <td>0</td>\n      <td>7.970000e+17</td>\n      <td>https://twitter.com/realDonaldTrump/status/797...</td>\n      <td>141527</td>\n      <td>28654</td>\n    </tr>\n    <tr>\n      <th>2</th>\n      <td>16-11-11</td>\n      <td>11:14:20</td>\n      <td>Love the fact that the small groups of protest...</td>\n      <td>text</td>\n      <td>0</td>\n      <td>7.970000e+17</td>\n      <td>https://twitter.com/realDonaldTrump/status/797...</td>\n      <td>183729</td>\n      <td>50039</td>\n    </tr>\n    <tr>\n      <th>3</th>\n      <td>16-11-11</td>\n      <td>2:19:44</td>\n      <td>Just had a very open and successful presidenti...</td>\n      <td>text</td>\n      <td>0</td>\n      <td>7.970000e+17</td>\n      <td>https://twitter.com/realDonaldTrump/status/796...</td>\n      <td>214001</td>\n      <td>67010</td>\n    </tr>\n    <tr>\n      <th>4</th>\n      <td>16-11-11</td>\n      <td>2:10:46</td>\n      <td>A fantastic day in D.C. Met with President Oba...</td>\n      <td>text</td>\n      <td>0</td>\n      <td>7.970000e+17</td>\n      <td>https://twitter.com/realDonaldTrump/status/796...</td>\n      <td>178499</td>\n      <td>36688</td>\n    </tr>\n    <tr>\n      <th>...</th>\n      <td>...</td>\n      <td>...</td>\n      <td>...</td>\n      <td>...</td>\n      <td>...</td>\n      <td>...</td>\n      <td>...</td>\n      <td>...</td>\n      <td>...</td>\n    </tr>\n    <tr>\n      <th>4868</th>\n      <td>15-11-13</td>\n      <td>21:36:29</td>\n      <td>They laughed at me when I said to bomb the ISI...</td>\n      <td>text</td>\n      <td>Trump2016</td>\n      <td>6.650000e+17</td>\n      <td>https://twitter.com/realDonaldTrump/status/665...</td>\n      <td>27527</td>\n      <td>16022</td>\n    </tr>\n    <tr>\n      <th>5623</th>\n      <td>15-10-14</td>\n      <td>2:33:13</td>\n      <td>Notice that illegal immigrants will be given O...</td>\n      <td>text</td>\n      <td>DemDebate</td>\n      <td>6.540000e+17</td>\n      <td>https://twitter.com/realDonaldTrump/status/654...</td>\n      <td>26438</td>\n      <td>17382</td>\n    </tr>\n    <tr>\n      <th>6249</th>\n      <td>15-09-12</td>\n      <td>11:07:38</td>\n      <td>\"@HamishP95: @realDonaldTrump My Dad is thinki...</td>\n      <td>text</td>\n      <td>0</td>\n      <td>6.430000e+17</td>\n      <td>https://twitter.com/realDonaldTrump/status/642...</td>\n      <td>9077</td>\n      <td>12681</td>\n    </tr>\n    <tr>\n      <th>6365</th>\n      <td>15-09-03</td>\n      <td>16:49:11</td>\n      <td>Congratulations to Tom Brady on yet another gr...</td>\n      <td>text</td>\n      <td>0</td>\n      <td>6.390000e+17</td>\n      <td>https://twitter.com/realDonaldTrump/status/639...</td>\n      <td>16554</td>\n      <td>12665</td>\n    </tr>\n    <tr>\n      <th>6651</th>\n      <td>15-08-08</td>\n      <td>12:29:09</td>\n      <td>So many \"politically correct\" fools in our cou...</td>\n      <td>text</td>\n      <td>0</td>\n      <td>6.300000e+17</td>\n      <td>https://twitter.com/realDonaldTrump/status/629...</td>\n      <td>21554</td>\n      <td>12812</td>\n    </tr>\n  </tbody>\n</table>\n<p>778 rows × 9 columns</p>\n</div>"
     },
     "execution_count": 24,
     "metadata": {},
     "output_type": "execute_result"
    }
   ],
   "source": [
    "df_new[df_new['Retweets'] > 10000]\n"
   ]
  },
  {
   "cell_type": "markdown",
   "source": [
    "778"
   ],
   "metadata": {
    "collapsed": false
   }
  },
  {
   "cell_type": "markdown",
   "metadata": {},
   "source": [
    "### Задание 7\n",
    "\n",
    "У скольки твитов строго больше 50 000 лайков с типом 'text'?"
   ]
  },
  {
   "cell_type": "code",
   "execution_count": 25,
   "metadata": {},
   "outputs": [
    {
     "data": {
      "text/plain": "          Date      Time                                         Tweet_Text  \\\n0     16-11-11  15:26:37  Today we express our deepest gratitude to all ...   \n1     16-11-11  13:33:35  Busy day planned in New York. Will soon be mak...   \n2     16-11-11  11:14:20  Love the fact that the small groups of protest...   \n3     16-11-11   2:19:44  Just had a very open and successful presidenti...   \n4     16-11-11   2:10:46  A fantastic day in D.C. Met with President Oba...   \n...        ...       ...                                                ...   \n1519  16-07-07   1:34:20  Where is the outrage for this Disney book? Is ...   \n1537  16-07-05  15:39:06  FBI director said Crooked Hillary compromised ...   \n1538  16-07-05  15:37:23  The system is rigged. General Petraeus got in ...   \n1542  16-07-04  22:30:15  Why is President Obama allowed to use Air Forc...   \n2158  16-05-05  18:57:30  Happy #CincoDeMayo! The best taco bowls are ma...   \n\n      Type      Hashtags      Tweet_Id  \\\n0     text     ThankAVet  7.970000e+17   \n1     text             0  7.970000e+17   \n2     text             0  7.970000e+17   \n3     text             0  7.970000e+17   \n4     text             0  7.970000e+17   \n...    ...           ...           ...   \n1519  text        Frozen  7.510000e+17   \n1537  text  RiggedSystem  7.500000e+17   \n1538  text             0  7.500000e+17   \n1542  text             0  7.500000e+17   \n2158  text   CincoDeMayo  7.280000e+17   \n\n                                              Tweet_Url   Likes  Retweets  \n0     https://twitter.com/realDonaldTrump/status/797...  127213     41112  \n1     https://twitter.com/realDonaldTrump/status/797...  141527     28654  \n2     https://twitter.com/realDonaldTrump/status/797...  183729     50039  \n3     https://twitter.com/realDonaldTrump/status/796...  214001     67010  \n4     https://twitter.com/realDonaldTrump/status/796...  178499     36688  \n...                                                 ...     ...       ...  \n1519  https://twitter.com/realDonaldTrump/status/750...   62396     26208  \n1537  https://twitter.com/realDonaldTrump/status/750...   78318     40657  \n1538  https://twitter.com/realDonaldTrump/status/750...   56275     22560  \n1542  https://twitter.com/realDonaldTrump/status/750...   56272     22076  \n2158  https://twitter.com/realDonaldTrump/status/728...   98285     79386  \n\n[142 rows x 9 columns]",
      "text/html": "<div>\n<style scoped>\n    .dataframe tbody tr th:only-of-type {\n        vertical-align: middle;\n    }\n\n    .dataframe tbody tr th {\n        vertical-align: top;\n    }\n\n    .dataframe thead th {\n        text-align: right;\n    }\n</style>\n<table border=\"1\" class=\"dataframe\">\n  <thead>\n    <tr style=\"text-align: right;\">\n      <th></th>\n      <th>Date</th>\n      <th>Time</th>\n      <th>Tweet_Text</th>\n      <th>Type</th>\n      <th>Hashtags</th>\n      <th>Tweet_Id</th>\n      <th>Tweet_Url</th>\n      <th>Likes</th>\n      <th>Retweets</th>\n    </tr>\n  </thead>\n  <tbody>\n    <tr>\n      <th>0</th>\n      <td>16-11-11</td>\n      <td>15:26:37</td>\n      <td>Today we express our deepest gratitude to all ...</td>\n      <td>text</td>\n      <td>ThankAVet</td>\n      <td>7.970000e+17</td>\n      <td>https://twitter.com/realDonaldTrump/status/797...</td>\n      <td>127213</td>\n      <td>41112</td>\n    </tr>\n    <tr>\n      <th>1</th>\n      <td>16-11-11</td>\n      <td>13:33:35</td>\n      <td>Busy day planned in New York. Will soon be mak...</td>\n      <td>text</td>\n      <td>0</td>\n      <td>7.970000e+17</td>\n      <td>https://twitter.com/realDonaldTrump/status/797...</td>\n      <td>141527</td>\n      <td>28654</td>\n    </tr>\n    <tr>\n      <th>2</th>\n      <td>16-11-11</td>\n      <td>11:14:20</td>\n      <td>Love the fact that the small groups of protest...</td>\n      <td>text</td>\n      <td>0</td>\n      <td>7.970000e+17</td>\n      <td>https://twitter.com/realDonaldTrump/status/797...</td>\n      <td>183729</td>\n      <td>50039</td>\n    </tr>\n    <tr>\n      <th>3</th>\n      <td>16-11-11</td>\n      <td>2:19:44</td>\n      <td>Just had a very open and successful presidenti...</td>\n      <td>text</td>\n      <td>0</td>\n      <td>7.970000e+17</td>\n      <td>https://twitter.com/realDonaldTrump/status/796...</td>\n      <td>214001</td>\n      <td>67010</td>\n    </tr>\n    <tr>\n      <th>4</th>\n      <td>16-11-11</td>\n      <td>2:10:46</td>\n      <td>A fantastic day in D.C. Met with President Oba...</td>\n      <td>text</td>\n      <td>0</td>\n      <td>7.970000e+17</td>\n      <td>https://twitter.com/realDonaldTrump/status/796...</td>\n      <td>178499</td>\n      <td>36688</td>\n    </tr>\n    <tr>\n      <th>...</th>\n      <td>...</td>\n      <td>...</td>\n      <td>...</td>\n      <td>...</td>\n      <td>...</td>\n      <td>...</td>\n      <td>...</td>\n      <td>...</td>\n      <td>...</td>\n    </tr>\n    <tr>\n      <th>1519</th>\n      <td>16-07-07</td>\n      <td>1:34:20</td>\n      <td>Where is the outrage for this Disney book? Is ...</td>\n      <td>text</td>\n      <td>Frozen</td>\n      <td>7.510000e+17</td>\n      <td>https://twitter.com/realDonaldTrump/status/750...</td>\n      <td>62396</td>\n      <td>26208</td>\n    </tr>\n    <tr>\n      <th>1537</th>\n      <td>16-07-05</td>\n      <td>15:39:06</td>\n      <td>FBI director said Crooked Hillary compromised ...</td>\n      <td>text</td>\n      <td>RiggedSystem</td>\n      <td>7.500000e+17</td>\n      <td>https://twitter.com/realDonaldTrump/status/750...</td>\n      <td>78318</td>\n      <td>40657</td>\n    </tr>\n    <tr>\n      <th>1538</th>\n      <td>16-07-05</td>\n      <td>15:37:23</td>\n      <td>The system is rigged. General Petraeus got in ...</td>\n      <td>text</td>\n      <td>0</td>\n      <td>7.500000e+17</td>\n      <td>https://twitter.com/realDonaldTrump/status/750...</td>\n      <td>56275</td>\n      <td>22560</td>\n    </tr>\n    <tr>\n      <th>1542</th>\n      <td>16-07-04</td>\n      <td>22:30:15</td>\n      <td>Why is President Obama allowed to use Air Forc...</td>\n      <td>text</td>\n      <td>0</td>\n      <td>7.500000e+17</td>\n      <td>https://twitter.com/realDonaldTrump/status/750...</td>\n      <td>56272</td>\n      <td>22076</td>\n    </tr>\n    <tr>\n      <th>2158</th>\n      <td>16-05-05</td>\n      <td>18:57:30</td>\n      <td>Happy #CincoDeMayo! The best taco bowls are ma...</td>\n      <td>text</td>\n      <td>CincoDeMayo</td>\n      <td>7.280000e+17</td>\n      <td>https://twitter.com/realDonaldTrump/status/728...</td>\n      <td>98285</td>\n      <td>79386</td>\n    </tr>\n  </tbody>\n</table>\n<p>142 rows × 9 columns</p>\n</div>"
     },
     "execution_count": 25,
     "metadata": {},
     "output_type": "execute_result"
    }
   ],
   "source": [
    "df_new[(df_new['Likes'] > 50000) & (df_new['Type'] == 'text')]\n"
   ]
  },
  {
   "cell_type": "markdown",
   "source": [
    "142"
   ],
   "metadata": {
    "collapsed": false
   }
  },
  {
   "cell_type": "markdown",
   "metadata": {},
   "source": [
    "### Задание 8\n",
    "\n",
    "Сколько в среднем (математич.ожидание) лайков набирают твиты, содержащие слово \"vote\"? Округлить до целого числа."
   ]
  },
  {
   "cell_type": "code",
   "execution_count": 26,
   "metadata": {},
   "outputs": [
    {
     "data": {
      "text/plain": "13519.803088803088"
     },
     "execution_count": 26,
     "metadata": {},
     "output_type": "execute_result"
    }
   ],
   "source": [
    "df_8 = df_new[df_new['Tweet_Text'].str.contains('vote')]\n",
    "df_8['Likes'].mean()"
   ]
  },
  {
   "cell_type": "markdown",
   "source": [
    "13520"
   ],
   "metadata": {
    "collapsed": false
   }
  },
  {
   "cell_type": "markdown",
   "metadata": {},
   "source": [
    "### Задание 9\n",
    "\n",
    "Какая корреляция между лайками и ретвитами? Округлить до 2 знака после запятой."
   ]
  },
  {
   "cell_type": "code",
   "execution_count": 27,
   "metadata": {},
   "outputs": [
    {
     "data": {
      "text/plain": "array([[1.        , 0.93887991],\n       [0.93887991, 1.        ]])"
     },
     "execution_count": 27,
     "metadata": {},
     "output_type": "execute_result"
    }
   ],
   "source": [
    "np.corrcoef(df_new['Likes'], df_new['Retweets'])\n"
   ]
  },
  {
   "cell_type": "markdown",
   "source": [
    "0,94"
   ],
   "metadata": {
    "collapsed": false
   }
  }
 ],
 "metadata": {
  "kernelspec": {
   "display_name": "Python 3 (ipykernel)",
   "language": "python",
   "name": "python3"
  },
  "language_info": {
   "codemirror_mode": {
    "name": "ipython",
    "version": 3
   },
   "file_extension": ".py",
   "mimetype": "text/x-python",
   "name": "python",
   "nbconvert_exporter": "python",
   "pygments_lexer": "ipython3",
   "version": "3.9.7"
  }
 },
 "nbformat": 4,
 "nbformat_minor": 4
}
